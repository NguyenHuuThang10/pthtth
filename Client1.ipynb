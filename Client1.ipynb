{
 "cells": [
  {
   "cell_type": "code",
   "execution_count": 1,
   "metadata": {},
   "outputs": [
    {
     "name": "stdout",
     "output_type": "stream",
     "text": [
      "Phản hồi từ Server: Dô\n"
     ]
    },
    {
     "data": {
      "text/plain": [
       "<bound method socket.close of <socket.socket fd=1360, family=2, type=1, proto=0, laddr=('192.168.137.1', 50713), raddr=('192.168.137.1', 45455)>>"
      ]
     },
     "execution_count": 1,
     "metadata": {},
     "output_type": "execute_result"
    }
   ],
   "source": [
    "import socket\n",
    "\n",
    "s = socket.socket(socket.AF_INET, socket.SOCK_STREAM)\n",
    "host = socket.gethostname()\n",
    "port = 45455\n",
    "s.connect((host, port))\n",
    "mess = input(\"Nhập dữ liệu muốn gửi tới Server: \")\n",
    "s.sendall(mess.encode(\"utf-8\"))\n",
    "data = s.recv(1024).decode(\"utf-8\")\n",
    "print(f\"Phản hồi từ Server: {data}\")\n",
    "s.close"
   ]
  }
 ],
 "metadata": {
  "kernelspec": {
   "display_name": "Python 3",
   "language": "python",
   "name": "python3"
  },
  "language_info": {
   "codemirror_mode": {
    "name": "ipython",
    "version": 3
   },
   "file_extension": ".py",
   "mimetype": "text/x-python",
   "name": "python",
   "nbconvert_exporter": "python",
   "pygments_lexer": "ipython3",
   "version": "3.11.5"
  },
  "orig_nbformat": 4
 },
 "nbformat": 4,
 "nbformat_minor": 2
}
