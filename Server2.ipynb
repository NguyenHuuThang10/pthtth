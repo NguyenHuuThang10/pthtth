{
 "cells": [
  {
   "cell_type": "code",
   "execution_count": 1,
   "metadata": {},
   "outputs": [
    {
     "name": "stdout",
     "output_type": "stream",
     "text": [
      "Đã chấp nhận kết nối từ: ('192.168.137.1', 51089)\n",
      "Dữ liệu nhận từ Client: thang\n",
      "Dữ liệu sau khi chuyển đổi: THANG\n",
      "Đã chấp nhận kết nối từ: ('192.168.137.1', 51091)\n",
      "Dữ liệu nhận từ Client: thắng\n",
      "Dữ liệu sau khi chuyển đổi: THẮNG\n"
     ]
    }
   ],
   "source": [
    "import socket\n",
    "\n",
    "\n",
    "s = socket.socket(socket.AF_INET, socket.SOCK_STREAM)\n",
    "host = socket.gethostname()\n",
    "port = 45455\n",
    "s.bind((host, port))\n",
    "s.listen(5)\n",
    "while True:\n",
    "    c, addr = s.accept()\n",
    "    print(f\"Đã chấp nhận kết nối từ: {addr}\")\n",
    "    data = c.recv(1024).decode(\"utf-8\")\n",
    "    print(f\"Dữ liệu nhận từ Client: {data}\")\n",
    "    data_upper = data.upper()\n",
    "    print(f\"Dữ liệu sau khi chuyển đổi: {data_upper}\")\n",
    "    c.sendall(data_upper.encode(\"utf-8\"))\n",
    "    c.close"
   ]
  }
 ],
 "metadata": {
  "kernelspec": {
   "display_name": "Python 3",
   "language": "python",
   "name": "python3"
  },
  "language_info": {
   "codemirror_mode": {
    "name": "ipython",
    "version": 3
   },
   "file_extension": ".py",
   "mimetype": "text/x-python",
   "name": "python",
   "nbconvert_exporter": "python",
   "pygments_lexer": "ipython3",
   "version": "3.11.5"
  },
  "orig_nbformat": 4
 },
 "nbformat": 4,
 "nbformat_minor": 2
}
