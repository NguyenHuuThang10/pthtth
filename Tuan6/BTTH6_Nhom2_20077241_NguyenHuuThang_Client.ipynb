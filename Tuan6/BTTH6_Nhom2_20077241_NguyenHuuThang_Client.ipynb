{
 "cells": [
  {
   "cell_type": "markdown",
   "metadata": {},
   "source": [
    "Client: \n",
    "\n",
    "Kết nối tới server qua địa chỉ IP và port được cung cấp \n",
    "\n",
    "Client chọn dịch vụ. \n",
    "\n",
    "Dịch vụ 1: Client nhập chuỗi. Hiển thị kết quả đảo ngược và in hoa ký tự đầu. \n",
    "\n",
    "Dịch vụ 2: Client nhập chuỗi các số nguyên. Hiển thị kết quả tính tổng các số nguyên. \n",
    "\n",
    "Kiểm tra ngắt kết nối."
   ]
  },
  {
   "cell_type": "code",
   "execution_count": 1,
   "metadata": {},
   "outputs": [
    {
     "name": "stdout",
     "output_type": "stream",
     "text": [
      "tổng = 39\n"
     ]
    }
   ],
   "source": [
    "import socket\n",
    "\n",
    "\n",
    "server_ip = \"127.0.0.1\"  # Địa chỉ IP của server\n",
    "server_port = 8892    # Cổng của server\n",
    "\n",
    "client = socket.socket(socket.AF_INET, socket.SOCK_STREAM)\n",
    "client.connect((server_ip, server_port))\n",
    "\n",
    "while True:\n",
    "\n",
    "\n",
    "    data1 = input(\"Nhập chuỗi số nguyên (cách nhau bởi khoảng trắng): \")\n",
    "    data_to_write = \"12345\"\n",
    "\n",
    "    # Mở tệp \"data.txt\" và ghi dữ liệu vào tệp\n",
    "    \n",
    "    if(data1 != \".\"):\n",
    "        file = open(\"data.txt\", \"a\")\n",
    "        file.write(\"\\n\"+data1)\n",
    "    # Mở tệp \"data.txt\" và đọc nội dung từ tệp\n",
    "    with open(\"data.txt\", \"r\") as file:\n",
    "        data = file.read()\n",
    "        \n",
    "    \n",
    "    if data1 == '.':\n",
    "        break\n",
    "\n",
    "\n",
    "client.send(data.encode())\n",
    "result = client.recv(1024).decode()\n",
    "print(f\"tổng = {result}\")\n",
    "   \n",
    "\n",
    "\n"
   ]
  }
 ],
 "metadata": {
  "kernelspec": {
   "display_name": "Python 3",
   "language": "python",
   "name": "python3"
  },
  "language_info": {
   "codemirror_mode": {
    "name": "ipython",
    "version": 3
   },
   "file_extension": ".py",
   "mimetype": "text/x-python",
   "name": "python",
   "nbconvert_exporter": "python",
   "pygments_lexer": "ipython3",
   "version": "3.11.5"
  },
  "orig_nbformat": 4
 },
 "nbformat": 4,
 "nbformat_minor": 2
}
