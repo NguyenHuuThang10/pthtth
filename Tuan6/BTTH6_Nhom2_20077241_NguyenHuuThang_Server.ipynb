{
 "cells": [
  {
   "cell_type": "markdown",
   "metadata": {},
   "source": [
    "Server: \n",
    "\n",
    "Cung cấp danh sách các dịch vụ: \n",
    "\n",
    "Đảo ngược chuỗi đồng thời in hoa ký tự đầu của mỗi từ \n",
    "\n",
    "Tính tổng chuỗi các số nguyên (Client nhập chuỗi các số nguyên) \n",
    "\n",
    "Thoát \n",
    "\n",
    "Server có thể xử lý đồng thời yêu cầu từ nhiều client. \n",
    "\n",
    "Tính tổng các số nguyên (Client nhập chuỗi các số nguyên, cách nhau bởi khoảng trắng)"
   ]
  },
  {
   "cell_type": "code",
   "execution_count": 1,
   "metadata": {},
   "outputs": [
    {
     "name": "stdout",
     "output_type": "stream",
     "text": [
      "Server đang lắng nghe...\n"
     ]
    },
    {
     "name": "stdout",
     "output_type": "stream",
     "text": [
      "Kết nối từ 127.0.0.1:51024\n",
      "Dữ liệu từ Client: \n",
      "2 7 8 1\n",
      "8 9 1 3\n",
      "1 7 9 6 2 1\n",
      "Kết quả hiện tại: 65\n",
      "Kết quả gửi đi: 65\n"
     ]
    }
   ],
   "source": [
    "import socket\n",
    "\n",
    "def calculate_sum(data):\n",
    "    numbers = [int(num) for num in data.split()]\n",
    "    result = sum(numbers)\n",
    "    return result\n",
    "\n",
    "def main():\n",
    "    server_ip = \"127.0.0.1\"  # Địa chỉ IP của server\n",
    "    server_port = 8892      # Cổng của server\n",
    "\n",
    "    server = socket.socket(socket.AF_INET, socket.SOCK_STREAM)\n",
    "    server.bind((server_ip, server_port))\n",
    "    server.listen(5)\n",
    "    print(\"Server đang lắng nghe...\")\n",
    "\n",
    "    while True:\n",
    "        client_socket, addr = server.accept()\n",
    "        print(f\"Kết nối từ {addr[0]}:{addr[1]}\")\n",
    "        result = 0\n",
    "        while True:\n",
    "                data = client_socket.recv(1024).decode()\n",
    "                print(\"Dữ liệu từ Client: \"+data)\n",
    "                result += calculate_sum(data)\n",
    "                print(\"Kết quả hiện tại: \" + str(result))\n",
    "                \n",
    "                result1 = str(result)\n",
    "                print(\"Kết quả gửi đi: \" + result1)\n",
    "                client_socket.send(result1.encode())\n",
    "               \n",
    "                    \n",
    "            \n",
    "            \n",
    "if __name__ == \"__main__\":\n",
    "    main()"
   ]
  }
 ],
 "metadata": {
  "kernelspec": {
   "display_name": "Python 3",
   "language": "python",
   "name": "python3"
  },
  "language_info": {
   "codemirror_mode": {
    "name": "ipython",
    "version": 3
   },
   "file_extension": ".py",
   "mimetype": "text/x-python",
   "name": "python",
   "nbconvert_exporter": "python",
   "pygments_lexer": "ipython3",
   "version": "3.11.5"
  },
  "orig_nbformat": 4
 },
 "nbformat": 4,
 "nbformat_minor": 2
}
